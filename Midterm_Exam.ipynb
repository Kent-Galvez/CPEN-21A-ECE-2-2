{
  "nbformat": 4,
  "nbformat_minor": 0,
  "metadata": {
    "colab": {
      "name": "Midterm Exam.ipynb",
      "provenance": [],
      "collapsed_sections": [],
      "authorship_tag": "ABX9TyNcBBdpGNYVB+I7dGgK/RZ8",
      "include_colab_link": true
    },
    "kernelspec": {
      "name": "python3",
      "display_name": "Python 3"
    },
    "language_info": {
      "name": "python"
    }
  },
  "cells": [
    {
      "cell_type": "markdown",
      "metadata": {
        "id": "view-in-github",
        "colab_type": "text"
      },
      "source": [
        "<a href=\"https://colab.research.google.com/github/Kent-Galvez/CPEN-21A-ECE-2-2/blob/main/Midterm_Exam.ipynb\" target=\"_parent\"><img src=\"https://colab.research.google.com/assets/colab-badge.svg\" alt=\"Open In Colab\"/></a>"
      ]
    },
    {
      "cell_type": "markdown",
      "metadata": {
        "id": "hMW8vWrTufil"
      },
      "source": [
        "Kent Ruzzell P. Galvez\n",
        "\n",
        "BSECE 2-2\n",
        "\n",
        "Problem Statement 1.\n",
        "\n",
        "\n",
        "\n",
        "\n",
        "\n"
      ]
    },
    {
      "cell_type": "code",
      "metadata": {
        "colab": {
          "base_uri": "https://localhost:8080/"
        },
        "id": "ZcmMSyuYuemM",
        "outputId": "04072cd3-2a18-41eb-9bb9-e119c601704d"
      },
      "source": [
        "print(\"Full Name: Kent Ruzzell Pingco Galvez\") #a. Full Name\n",
        "print(\"Student Number: 202014329\") #b.Student Number\n",
        "print(\"Age: 20\") #c. Age\n",
        "print(\"Birthdate: March 26, 2001\") #d.Birthdate\n",
        "print(\"Address: Bagbag St. Labac, Naic, Cavite\") #e.Address\n",
        "print(\"Course: Bachelor of Science in Electronics and Communications Engineering (BSECE)\") #f. Course\n",
        "print(\"GWA= 1.53\") #g. GWA last sem"
      ],
      "execution_count": 43,
      "outputs": [
        {
          "output_type": "stream",
          "name": "stdout",
          "text": [
            "Full Name: Kent Ruzzell Pingco Galvez\n",
            "Student Number: 202014329\n",
            "Age: 20\n",
            "Birthdate: March 26, 2001\n",
            "Address: Bagbag St. Labac, Naic, Cavite\n",
            "Course: Bachelor of Science in Electronics and Communications Engineering (BSECE)\n",
            "GWA= 1.53\n"
          ]
        }
      ]
    },
    {
      "cell_type": "markdown",
      "metadata": {
        "id": "MB4moRGPv5qb"
      },
      "source": [
        "Problem Statement 2."
      ]
    },
    {
      "cell_type": "code",
      "metadata": {
        "colab": {
          "base_uri": "https://localhost:8080/"
        },
        "id": "oP8rH0Cpv8U6",
        "outputId": "dab6ec0b-801b-4de5-fc08-0be66e5d3cb3"
      },
      "source": [
        "n=4\n",
        "answ=\"Y\"\n",
        "print(2<n and n<6) \n",
        "print((2<n) or (n==6))\n",
        "print(not 2<n or n==6)\n",
        "print(not n<6)\n",
        "print(answ==\"Y\" or answ==\"y\")\n",
        "print(answ==\"Y\" and answ==\"y\")\n",
        "print(not answ==\"y\")\n",
        "print((2<n and n==5+1) or answ==\"No\")\n",
        "print((n==2 and n==7) or answ==\"Y\")\n",
        "print(n==2 and (n==7 or answ==\"Y\"))"
      ],
      "execution_count": 45,
      "outputs": [
        {
          "output_type": "stream",
          "name": "stdout",
          "text": [
            "True\n",
            "True\n",
            "False\n",
            "False\n",
            "True\n",
            "False\n",
            "True\n",
            "False\n",
            "True\n",
            "False\n"
          ]
        }
      ]
    },
    {
      "cell_type": "markdown",
      "metadata": {
        "id": "fNQSyNXawacX"
      },
      "source": [
        "Problem Statement 3."
      ]
    },
    {
      "cell_type": "code",
      "metadata": {
        "colab": {
          "base_uri": "https://localhost:8080/"
        },
        "id": "yRBxZHEKwbSF",
        "outputId": "4a7a1bfb-1c92-4774-bef0-ba0e3a82e145"
      },
      "source": [
        "x=2\n",
        "y=-3\n",
        "w=7\n",
        "z=-10\n",
        "\n",
        "print(x/y) #a. x/y\n",
        "print(w/y/x) #b. w/y/x\n",
        "print(z/y%x) #c. z/y%x\n",
        "print(x%-y*w) #d. x%-y*w\n",
        "print(x%y) #e. x%y\n",
        "print(z%w-y/x*5+5) #f. z%w-y/x*5+5\n",
        "print(9-x%(2+y)) #g. 9-x%(2+y)\n",
        "print(z//w) #h. z//w\n",
        "print((2+y)**2) #i. (2+y)**2\n",
        "print(w/x*2) #j. w/x*2"
      ],
      "execution_count": 44,
      "outputs": [
        {
          "output_type": "stream",
          "name": "stdout",
          "text": [
            "-0.6666666666666666\n",
            "-1.1666666666666667\n",
            "1.3333333333333335\n",
            "14\n",
            "-1\n",
            "16.5\n",
            "9\n",
            "-2\n",
            "1\n",
            "7.0\n"
          ]
        }
      ]
    }
  ]
}