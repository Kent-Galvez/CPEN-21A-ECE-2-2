{
  "nbformat": 4,
  "nbformat_minor": 0,
  "metadata": {
    "colab": {
      "name": "Lab 1.ipynb",
      "provenance": [],
      "collapsed_sections": [],
      "authorship_tag": "ABX9TyMdWTBJVn/Lb/wKSNgSkEv5",
      "include_colab_link": true
    },
    "kernelspec": {
      "name": "python3",
      "display_name": "Python 3"
    },
    "language_info": {
      "name": "python"
    }
  },
  "cells": [
    {
      "cell_type": "markdown",
      "metadata": {
        "id": "view-in-github",
        "colab_type": "text"
      },
      "source": [
        "<a href=\"https://colab.research.google.com/github/Kent-Galvez/CPEN-21A-ECE-2-2/blob/main/Lab_1.ipynb\" target=\"_parent\"><img src=\"https://colab.research.google.com/assets/colab-badge.svg\" alt=\"Open In Colab\"/></a>"
      ]
    },
    {
      "cell_type": "markdown",
      "metadata": {
        "id": "N-PHhYvQeRsM"
      },
      "source": [
        "Galvez, Kent Ruzzell P.\n",
        "\n",
        "BSECE 2-2\n",
        "\n",
        "**Laboratory 1**"
      ]
    },
    {
      "cell_type": "code",
      "metadata": {
        "colab": {
          "base_uri": "https://localhost:8080/"
        },
        "id": "1-WbJwyacdUj",
        "outputId": "fceabd45-67d1-4d79-a7fc-1e0993b3eea4"
      },
      "source": [
        "print(\"Welcome to Python Programming\")"
      ],
      "execution_count": null,
      "outputs": [
        {
          "output_type": "stream",
          "name": "stdout",
          "text": [
            "Welcome to Python Programming\n"
          ]
        }
      ]
    },
    {
      "cell_type": "code",
      "metadata": {
        "colab": {
          "base_uri": "https://localhost:8080/"
        },
        "id": "sEumvLhZcvzM",
        "outputId": "d33fa84e-dc7f-4c86-9062-36e934a061b6"
      },
      "source": [
        "name = input(\"What is your name? \")\n",
        "address = input(\"What is your address? \")\n",
        "age = input(\"What is your age? \")\n",
        "print(\"You are \" + name + \", you are \" + age + \" years old, and you live in \" + address)"
      ],
      "execution_count": 8,
      "outputs": [
        {
          "output_type": "stream",
          "name": "stdout",
          "text": [
            "What is your name? Kent\n",
            "What is your address? Naic\n",
            "What is your age? 20\n",
            "You are Kent, you are 20 years old, and you live in Naic\n"
          ]
        }
      ]
    }
  ]
}