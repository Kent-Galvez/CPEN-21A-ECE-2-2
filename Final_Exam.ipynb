{
  "nbformat": 4,
  "nbformat_minor": 0,
  "metadata": {
    "colab": {
      "name": "Final Exam.ipynb",
      "provenance": [],
      "collapsed_sections": [],
      "authorship_tag": "ABX9TyNQO3tgD9GoR3gpaIkf7tTk",
      "include_colab_link": true
    },
    "kernelspec": {
      "name": "python3",
      "display_name": "Python 3"
    },
    "language_info": {
      "name": "python"
    }
  },
  "cells": [
    {
      "cell_type": "markdown",
      "metadata": {
        "id": "view-in-github",
        "colab_type": "text"
      },
      "source": [
        "<a href=\"https://colab.research.google.com/github/Kent-Galvez/CPEN-21A-ECE-2-2/blob/main/Final_Exam.ipynb\" target=\"_parent\"><img src=\"https://colab.research.google.com/assets/colab-badge.svg\" alt=\"Open In Colab\"/></a>"
      ]
    },
    {
      "cell_type": "markdown",
      "source": [
        "FINAL EXAM\n",
        "\n",
        "Galvez, Kent Ruzzell P.       #202014329\n",
        "\n",
        "BSECE2-2"
      ],
      "metadata": {
        "id": "IoB0HuAttRQm"
      }
    },
    {
      "cell_type": "markdown",
      "source": [
        "PROBLEM STATEMENT 1.\n",
        "Create a Python program that will produce an output of sum of 10 numbers less than 5\n",
        "using FOR LOOP statement."
      ],
      "metadata": {
        "id": "vLwPxJM3tEMM"
      }
    },
    {
      "cell_type": "code",
      "source": [
        "total = 0\n",
        "x=-5 # integers from -5 to 4 so it will be less than 5\n",
        "\n",
        "for n in range (x,5):\n",
        "    total = total + n\n",
        "    \n",
        "print(total)"
      ],
      "metadata": {
        "colab": {
          "base_uri": "https://localhost:8080/"
        },
        "id": "zqpprnYrtPxE",
        "outputId": "7de3e51e-a0cc-4ffa-e9d1-54b8a9f40abc"
      },
      "execution_count": 2,
      "outputs": [
        {
          "output_type": "stream",
          "name": "stdout",
          "text": [
            "-5\n"
          ]
        }
      ]
    },
    {
      "cell_type": "markdown",
      "source": [
        "PROBLEM STATEMENT 2.\n",
        "Create a Python program that will produce accept five numbers and determine the sum of\n",
        "first and last number among the five numbers entered using WHILE LOOP "
      ],
      "metadata": {
        "id": "Jmc56kcGy5rl"
      }
    },
    {
      "cell_type": "code",
      "source": [
        "numbers = []\n",
        "size = 5\n",
        "trace = 0\n",
        "totalFandL = 0\n",
        "\n",
        "for i in range(size):\n",
        "    numbers.append(int(input()))\n",
        "    \n",
        "while trace <= (size - 1):\n",
        "    if trace == 0 or trace == 4:\n",
        "        totalFandL += numbers[trace]\n",
        "    \n",
        "    trace += 1\n",
        "\n",
        "print(\"The sum of First and Last number is\" , totalFandL)"
      ],
      "metadata": {
        "colab": {
          "base_uri": "https://localhost:8080/"
        },
        "id": "FYgZmI8Zy5Kj",
        "outputId": "9c964484-58b6-41b0-a97a-7c012046fe21"
      },
      "execution_count": 7,
      "outputs": [
        {
          "output_type": "stream",
          "name": "stdout",
          "text": [
            "55\n",
            "90\n",
            "32\n",
            "9\n",
            "12\n",
            "The sum of First and Last number is 67\n"
          ]
        }
      ]
    },
    {
      "cell_type": "markdown",
      "source": [
        "PROBLEM STATEMENT 3.\n",
        "Create a Python program to calculate student grades. It accepts a numerical grade as input\n",
        "and it will display the character grade as output based on the given scale: (Use Nested-IF-Else\n",
        "statement)"
      ],
      "metadata": {
        "id": "-0h89Vt5y7Az"
      }
    },
    {
      "cell_type": "code",
      "source": [
        "sum=0\n",
        "average=0\n",
        "\n",
        "print(\"Enter grades obtained in 3 subjects:\")\n",
        "grade1=int(input(\"Mathematics \"))\n",
        "grade2=int(input(\"Science \"))\n",
        "grade3=int(input(\"English \"))\n",
        "\n",
        "sum=grade1+grade2+grade3\n",
        "average=sum/3\n",
        "\n",
        "if average >=90:\n",
        "  print(\"Your grade is A\")\n",
        "else:\n",
        "    if average >=80 and average <90:\n",
        "      print(\"Your grade is B\")\n",
        "    else:\n",
        "        if average >=70 and average <80:\n",
        "           print(\"Your grade is C\")\n",
        "        else:\n",
        "            if average >=60 and average <70:\n",
        "               print(\"Your grade is D\")\n",
        "            else:\n",
        "              print(\"Your grade is F\")"
      ],
      "metadata": {
        "colab": {
          "base_uri": "https://localhost:8080/"
        },
        "id": "3NtwnzOuy5Hk",
        "outputId": "41e51215-bc22-47bb-e515-121cdc3530ed"
      },
      "execution_count": 9,
      "outputs": [
        {
          "output_type": "stream",
          "name": "stdout",
          "text": [
            "Enter grades obtained in 3 subjects:\n",
            "Mathematics 79\n",
            "Science 88\n",
            "English 94\n",
            "Your grade is B\n"
          ]
        }
      ]
    }
  ]
}